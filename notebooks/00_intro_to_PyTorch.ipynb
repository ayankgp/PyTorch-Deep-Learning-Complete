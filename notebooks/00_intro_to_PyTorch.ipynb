{
 "cells": [
  {
   "cell_type": "markdown",
   "metadata": {},
   "source": [
    "Github Repo Link: https://github.com/ayankgp/PyTorch-Deep-Learning-Complete"
   ]
  },
  {
   "cell_type": "code",
   "execution_count": 1,
   "metadata": {},
   "outputs": [],
   "source": [
    "import torch\n",
    "import numpy as np\n",
    "import pandas as pd\n",
    "import matplotlib.pyplot as plt"
   ]
  },
  {
   "cell_type": "markdown",
   "metadata": {},
   "source": [
    "PyTorch Tensors: https://pytorch.org/docs/stable/tensors.html"
   ]
  },
  {
   "cell_type": "code",
   "execution_count": 22,
   "metadata": {},
   "outputs": [
    {
     "name": "stdout",
     "output_type": "stream",
     "text": [
      "torch.Size([])\n",
      "tensor(7)\n",
      "7\n",
      "0\n"
     ]
    }
   ],
   "source": [
    "# scalar\n",
    "\n",
    "scalar = torch.tensor(7)\n",
    "\n",
    "print(scalar.shape)\n",
    "print(scalar)\n",
    "print(scalar.item()) # --> spits out the actual scalar value from the tensor\n",
    "print(scalar.dim())"
   ]
  },
  {
   "cell_type": "code",
   "execution_count": 23,
   "metadata": {},
   "outputs": [
    {
     "name": "stdout",
     "output_type": "stream",
     "text": [
      "torch.Size([2])\n",
      "tensor([7, 7])\n",
      "1\n"
     ]
    }
   ],
   "source": [
    "# vector\n",
    "\n",
    "vector = torch.tensor([7, 7])\n",
    "\n",
    "print(vector.shape)\n",
    "print(vector)\n",
    "print(vector.dim())"
   ]
  },
  {
   "cell_type": "code",
   "execution_count": 24,
   "metadata": {},
   "outputs": [
    {
     "name": "stdout",
     "output_type": "stream",
     "text": [
      "torch.Size([2, 2])\n",
      "tensor([[7, 8],\n",
      "        [3, 4]])\n",
      "2\n"
     ]
    }
   ],
   "source": [
    "# MATRIX\n",
    "\n",
    "MATRIX = torch.tensor([\n",
    "    [7, 8],\n",
    "    [3, 4]\n",
    "    ])\n",
    "\n",
    "print(MATRIX.shape)\n",
    "print(MATRIX)\n",
    "print(MATRIX.dim())"
   ]
  },
  {
   "cell_type": "code",
   "execution_count": 26,
   "metadata": {},
   "outputs": [
    {
     "name": "stdout",
     "output_type": "stream",
     "text": [
      "torch.Size([1, 3, 3])\n",
      "tensor([[[1, 2, 3],\n",
      "         [4, 5, 6],\n",
      "         [7, 8, 9]]])\n",
      "3\n"
     ]
    }
   ],
   "source": [
    "# TENSOR\n",
    "\n",
    "TENSOR = torch.tensor(\n",
    "    [[[1,2,3],\n",
    "      [4,5,6],\n",
    "      [7,8,9]]]\n",
    ")\n",
    "\n",
    "print(TENSOR.shape)\n",
    "print(TENSOR)\n",
    "print(TENSOR.dim())"
   ]
  },
  {
   "cell_type": "code",
   "execution_count": 33,
   "metadata": {},
   "outputs": [
    {
     "data": {
      "text/plain": [
       "(tensor([[1, 2, 3],\n",
       "         [4, 5, 6],\n",
       "         [7, 8, 9]]),\n",
       " tensor([1, 2, 3]),\n",
       " tensor(1))"
      ]
     },
     "execution_count": 33,
     "metadata": {},
     "output_type": "execute_result"
    }
   ],
   "source": [
    "TENSOR[0], TENSOR[0][0], TENSOR[0][0][0]"
   ]
  },
  {
   "cell_type": "markdown",
   "metadata": {},
   "source": [
    "### Random tensors\n",
    "\n",
    "Why random tensors?\n",
    "- The way many neural nets learn is that they start with a tensor of random numbers and adjust them to better represent data.\n",
    "- neural networks: start with random nums -> look at data -> update random numbers -> look at data -> update random numbers"
   ]
  },
  {
   "cell_type": "code",
   "execution_count": 43,
   "metadata": {},
   "outputs": [
    {
     "data": {
      "text/plain": [
       "(tensor([[0.3042, 0.2119, 0.8501, 0.0789],\n",
       "         [0.5139, 0.9201, 0.6343, 0.1777],\n",
       "         [0.7602, 0.5730, 0.7934, 0.8755]]),\n",
       " tensor([[0.8246, 0.8341, 0.5452, 0.2709],\n",
       "         [0.1997, 0.0124, 0.3728, 0.2498],\n",
       "         [0.5406, 0.9649, 0.9608, 0.3423]]))"
      ]
     },
     "execution_count": 43,
     "metadata": {},
     "output_type": "execute_result"
    }
   ],
   "source": [
    "random_tensor1 = torch.rand(size=[3, 4]) #  BOTH OF THESE \n",
    "random_tensor2 = torch.rand(3, 4)   #   ARE CORRECT\n",
    "random_tensor1, random_tensor2"
   ]
  },
  {
   "cell_type": "code",
   "execution_count": 40,
   "metadata": {},
   "outputs": [
    {
     "data": {
      "text/plain": [
       "3"
      ]
     },
     "execution_count": 40,
     "metadata": {},
     "output_type": "execute_result"
    }
   ],
   "source": [
    "random_tensor3 = torch.rand(1, 3, 4)\n",
    "random_tensor3.dim()"
   ]
  },
  {
   "cell_type": "code",
   "execution_count": 52,
   "metadata": {},
   "outputs": [
    {
     "data": {
      "text/plain": [
       "(tensor([[1., 1., 1., 1.],\n",
       "         [1., 1., 1., 1.],\n",
       "         [1., 1., 1., 1.]]),\n",
       " tensor([[0., 0., 0.],\n",
       "         [0., 0., 0.],\n",
       "         [0., 0., 0.],\n",
       "         [0., 0., 0.]]))"
      ]
     },
     "execution_count": 52,
     "metadata": {},
     "output_type": "execute_result"
    }
   ],
   "source": [
    "ones = torch.ones(size=[3, 4])\n",
    "zeros = torch.zeros(size=[4, 3])\n",
    "ones, zeros"
   ]
  },
  {
   "cell_type": "code",
   "execution_count": 67,
   "metadata": {},
   "outputs": [
    {
     "data": {
      "text/plain": [
       "(tensor([ 1,  2,  3,  4,  5,  6,  7,  8,  9, 10]),\n",
       " tensor([0, 0, 0, 0, 0, 0, 0, 0, 0, 0]))"
      ]
     },
     "execution_count": 67,
     "metadata": {},
     "output_type": "execute_result"
    }
   ],
   "source": [
    "one2ten = torch.arange(start=1, end=11, step=1)\n",
    "one2ten_z = torch.zeros_like(one2ten)\n",
    "one2ten, one2ten_z"
   ]
  },
  {
   "cell_type": "code",
   "execution_count": 79,
   "metadata": {},
   "outputs": [
    {
     "data": {
      "text/plain": [
       "tensor([[0.9970, 0.5673, 0.3094],\n",
       "        [0.0041, 0.7025, 0.7852],\n",
       "        [0.7711, 0.5345, 0.2261],\n",
       "        [0.0196, 0.2152, 0.8965]], device='mps:0')"
      ]
     },
     "execution_count": 79,
     "metadata": {},
     "output_type": "execute_result"
    }
   ],
   "source": [
    "dtype_random_tensor = torch.rand(\n",
    "    size=[4, 3], \n",
    "    dtype=torch.float32,\n",
    "    device='mps',\n",
    "    requires_grad=False\n",
    ")\n",
    "dtype_random_tensor"
   ]
  },
  {
   "cell_type": "markdown",
   "metadata": {},
   "source": [
    "## Tensor common errors in Deep Learning\n",
    "\n",
    "- tensor not right datatype\n",
    "- tensor not right shape\n",
    "- tensor not on right device"
   ]
  },
  {
   "cell_type": "code",
   "execution_count": 85,
   "metadata": {},
   "outputs": [
    {
     "data": {
      "text/plain": [
       "tensor([[5.3790e-01, 8.2161e-02, 1.6657e-02],\n",
       "        [5.4484e-01, 7.6930e-02, 1.7462e-01],\n",
       "        [4.2221e-04, 2.5905e-01, 2.1816e-01],\n",
       "        [3.0290e-01, 4.1841e-02, 3.0919e-01]], dtype=torch.float64)"
      ]
     },
     "execution_count": 85,
     "metadata": {},
     "output_type": "execute_result"
    }
   ],
   "source": [
    "float16_random_tensor = torch.rand(\n",
    "    size=[4, 3], \n",
    "    dtype=torch.float32)\n",
    "\n",
    "float32_random_tensor = torch.rand(\n",
    "    size=[4, 3], \n",
    "    dtype=torch.float64)\n",
    "\n",
    "float16_random_tensor * float32_random_tensor"
   ]
  },
  {
   "cell_type": "code",
   "execution_count": 86,
   "metadata": {},
   "outputs": [
    {
     "data": {
      "text/plain": [
       "(torch.float32, device(type='cpu'), torch.Size([4, 3]))"
      ]
     },
     "execution_count": 86,
     "metadata": {},
     "output_type": "execute_result"
    }
   ],
   "source": [
    "# getting info\n",
    "\n",
    "float16_random_tensor.dtype, float32_random_tensor.device, float32_random_tensor.shape"
   ]
  },
  {
   "cell_type": "code",
   "execution_count": null,
   "metadata": {},
   "outputs": [],
   "source": []
  }
 ],
 "metadata": {
  "kernelspec": {
   "display_name": ".venv",
   "language": "python",
   "name": "python3"
  },
  "language_info": {
   "codemirror_mode": {
    "name": "ipython",
    "version": 3
   },
   "file_extension": ".py",
   "mimetype": "text/x-python",
   "name": "python",
   "nbconvert_exporter": "python",
   "pygments_lexer": "ipython3",
   "version": "3.12.7"
  }
 },
 "nbformat": 4,
 "nbformat_minor": 2
}
